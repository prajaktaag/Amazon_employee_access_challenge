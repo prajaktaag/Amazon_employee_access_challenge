{
 "cells": [
  {
   "cell_type": "code",
   "execution_count": 30,
   "metadata": {},
   "outputs": [],
   "source": [
    "import numpy as np\n",
    "import pandas as pd\n",
    "import time\n",
    "import matplotlib.pyplot as plt\n",
    "from sklearn.metrics import f1_score\n",
    "from sklearn import preprocessing, model_selection, metrics, linear_model\n",
    "from sklearn.feature_selection import SelectKBest, chi2\n",
    "from sklearn.naive_bayes import BernoulliNB\n",
    "from sklearn.neighbors import KNeighborsClassifier\n",
    "from sklearn.ensemble import RandomForestClassifier\n",
    "from sklearn.svm import LinearSVC"
   ]
  },
  {
   "cell_type": "markdown",
   "metadata": {},
   "source": [
    "# 1.  Reading the dataset"
   ]
  },
  {
   "cell_type": "code",
   "execution_count": 31,
   "metadata": {},
   "outputs": [],
   "source": [
    "data = pd.read_csv(\"/dataset/train.csv\", delimiter = ',', usecols = range(1,9))\n",
    "target = pd.read_csv(\"/datasettrain.csv\", delimiter = ',', usecols = [0]) "
   ]
  },
  {
   "cell_type": "code",
   "execution_count": 32,
   "metadata": {
    "scrolled": false
   },
   "outputs": [
    {
     "data": {
      "text/html": [
       "<div>\n",
       "<style scoped>\n",
       "    .dataframe tbody tr th:only-of-type {\n",
       "        vertical-align: middle;\n",
       "    }\n",
       "\n",
       "    .dataframe tbody tr th {\n",
       "        vertical-align: top;\n",
       "    }\n",
       "\n",
       "    .dataframe thead th {\n",
       "        text-align: right;\n",
       "    }\n",
       "</style>\n",
       "<table border=\"1\" class=\"dataframe\">\n",
       "  <thead>\n",
       "    <tr style=\"text-align: right;\">\n",
       "      <th></th>\n",
       "      <th>RESOURCE</th>\n",
       "      <th>MGR_ID</th>\n",
       "      <th>ROLE_ROLLUP_1</th>\n",
       "      <th>ROLE_ROLLUP_2</th>\n",
       "      <th>ROLE_DEPTNAME</th>\n",
       "      <th>ROLE_TITLE</th>\n",
       "      <th>ROLE_FAMILY_DESC</th>\n",
       "      <th>ROLE_FAMILY</th>\n",
       "    </tr>\n",
       "  </thead>\n",
       "  <tbody>\n",
       "    <tr>\n",
       "      <th>0</th>\n",
       "      <td>39353</td>\n",
       "      <td>85475</td>\n",
       "      <td>117961</td>\n",
       "      <td>118300</td>\n",
       "      <td>123472</td>\n",
       "      <td>117905</td>\n",
       "      <td>117906</td>\n",
       "      <td>290919</td>\n",
       "    </tr>\n",
       "    <tr>\n",
       "      <th>1</th>\n",
       "      <td>17183</td>\n",
       "      <td>1540</td>\n",
       "      <td>117961</td>\n",
       "      <td>118343</td>\n",
       "      <td>123125</td>\n",
       "      <td>118536</td>\n",
       "      <td>118536</td>\n",
       "      <td>308574</td>\n",
       "    </tr>\n",
       "    <tr>\n",
       "      <th>2</th>\n",
       "      <td>36724</td>\n",
       "      <td>14457</td>\n",
       "      <td>118219</td>\n",
       "      <td>118220</td>\n",
       "      <td>117884</td>\n",
       "      <td>117879</td>\n",
       "      <td>267952</td>\n",
       "      <td>19721</td>\n",
       "    </tr>\n",
       "    <tr>\n",
       "      <th>3</th>\n",
       "      <td>36135</td>\n",
       "      <td>5396</td>\n",
       "      <td>117961</td>\n",
       "      <td>118343</td>\n",
       "      <td>119993</td>\n",
       "      <td>118321</td>\n",
       "      <td>240983</td>\n",
       "      <td>290919</td>\n",
       "    </tr>\n",
       "    <tr>\n",
       "      <th>4</th>\n",
       "      <td>42680</td>\n",
       "      <td>5905</td>\n",
       "      <td>117929</td>\n",
       "      <td>117930</td>\n",
       "      <td>119569</td>\n",
       "      <td>119323</td>\n",
       "      <td>123932</td>\n",
       "      <td>19793</td>\n",
       "    </tr>\n",
       "    <tr>\n",
       "      <th>5</th>\n",
       "      <td>45333</td>\n",
       "      <td>14561</td>\n",
       "      <td>117951</td>\n",
       "      <td>117952</td>\n",
       "      <td>118008</td>\n",
       "      <td>118568</td>\n",
       "      <td>118568</td>\n",
       "      <td>19721</td>\n",
       "    </tr>\n",
       "    <tr>\n",
       "      <th>6</th>\n",
       "      <td>25993</td>\n",
       "      <td>17227</td>\n",
       "      <td>117961</td>\n",
       "      <td>118343</td>\n",
       "      <td>123476</td>\n",
       "      <td>118980</td>\n",
       "      <td>301534</td>\n",
       "      <td>118295</td>\n",
       "    </tr>\n",
       "    <tr>\n",
       "      <th>7</th>\n",
       "      <td>19666</td>\n",
       "      <td>4209</td>\n",
       "      <td>117961</td>\n",
       "      <td>117969</td>\n",
       "      <td>118910</td>\n",
       "      <td>126820</td>\n",
       "      <td>269034</td>\n",
       "      <td>118638</td>\n",
       "    </tr>\n",
       "  </tbody>\n",
       "</table>\n",
       "</div>"
      ],
      "text/plain": [
       "   RESOURCE  MGR_ID  ROLE_ROLLUP_1  ROLE_ROLLUP_2  ROLE_DEPTNAME  ROLE_TITLE  \\\n",
       "0     39353   85475         117961         118300         123472      117905   \n",
       "1     17183    1540         117961         118343         123125      118536   \n",
       "2     36724   14457         118219         118220         117884      117879   \n",
       "3     36135    5396         117961         118343         119993      118321   \n",
       "4     42680    5905         117929         117930         119569      119323   \n",
       "5     45333   14561         117951         117952         118008      118568   \n",
       "6     25993   17227         117961         118343         123476      118980   \n",
       "7     19666    4209         117961         117969         118910      126820   \n",
       "\n",
       "   ROLE_FAMILY_DESC  ROLE_FAMILY  \n",
       "0            117906       290919  \n",
       "1            118536       308574  \n",
       "2            267952        19721  \n",
       "3            240983       290919  \n",
       "4            123932        19793  \n",
       "5            118568        19721  \n",
       "6            301534       118295  \n",
       "7            269034       118638  "
      ]
     },
     "execution_count": 32,
     "metadata": {},
     "output_type": "execute_result"
    }
   ],
   "source": [
    "#display the dataset\n",
    "data.head(8)"
   ]
  },
  {
   "cell_type": "code",
   "execution_count": 33,
   "metadata": {},
   "outputs": [
    {
     "data": {
      "text/plain": [
       "(32769, 8)"
      ]
     },
     "execution_count": 33,
     "metadata": {},
     "output_type": "execute_result"
    }
   ],
   "source": [
    "data.shape"
   ]
  },
  {
   "cell_type": "markdown",
   "metadata": {},
   "source": [
    "# 2. Describing the Dataset"
   ]
  },
  {
   "cell_type": "code",
   "execution_count": 34,
   "metadata": {},
   "outputs": [
    {
     "data": {
      "text/html": [
       "<div>\n",
       "<style scoped>\n",
       "    .dataframe tbody tr th:only-of-type {\n",
       "        vertical-align: middle;\n",
       "    }\n",
       "\n",
       "    .dataframe tbody tr th {\n",
       "        vertical-align: top;\n",
       "    }\n",
       "\n",
       "    .dataframe thead th {\n",
       "        text-align: right;\n",
       "    }\n",
       "</style>\n",
       "<table border=\"1\" class=\"dataframe\">\n",
       "  <thead>\n",
       "    <tr style=\"text-align: right;\">\n",
       "      <th></th>\n",
       "      <th>RESOURCE</th>\n",
       "      <th>MGR_ID</th>\n",
       "      <th>ROLE_ROLLUP_1</th>\n",
       "      <th>ROLE_ROLLUP_2</th>\n",
       "      <th>ROLE_DEPTNAME</th>\n",
       "      <th>ROLE_TITLE</th>\n",
       "      <th>ROLE_FAMILY_DESC</th>\n",
       "      <th>ROLE_FAMILY</th>\n",
       "    </tr>\n",
       "  </thead>\n",
       "  <tbody>\n",
       "    <tr>\n",
       "      <th>count</th>\n",
       "      <td>32769.000000</td>\n",
       "      <td>32769.000000</td>\n",
       "      <td>32769.000000</td>\n",
       "      <td>32769.000000</td>\n",
       "      <td>32769.000000</td>\n",
       "      <td>32769.000000</td>\n",
       "      <td>32769.000000</td>\n",
       "      <td>32769.000000</td>\n",
       "    </tr>\n",
       "    <tr>\n",
       "      <th>mean</th>\n",
       "      <td>42923.916171</td>\n",
       "      <td>25988.957979</td>\n",
       "      <td>116952.627788</td>\n",
       "      <td>118301.823156</td>\n",
       "      <td>118912.779914</td>\n",
       "      <td>125916.152644</td>\n",
       "      <td>170178.369648</td>\n",
       "      <td>183703.408893</td>\n",
       "    </tr>\n",
       "    <tr>\n",
       "      <th>std</th>\n",
       "      <td>34173.892702</td>\n",
       "      <td>35928.031650</td>\n",
       "      <td>10875.563591</td>\n",
       "      <td>4551.588572</td>\n",
       "      <td>18961.322917</td>\n",
       "      <td>31036.465825</td>\n",
       "      <td>69509.462130</td>\n",
       "      <td>100488.407413</td>\n",
       "    </tr>\n",
       "    <tr>\n",
       "      <th>min</th>\n",
       "      <td>0.000000</td>\n",
       "      <td>25.000000</td>\n",
       "      <td>4292.000000</td>\n",
       "      <td>23779.000000</td>\n",
       "      <td>4674.000000</td>\n",
       "      <td>117879.000000</td>\n",
       "      <td>4673.000000</td>\n",
       "      <td>3130.000000</td>\n",
       "    </tr>\n",
       "    <tr>\n",
       "      <th>25%</th>\n",
       "      <td>20299.000000</td>\n",
       "      <td>4566.000000</td>\n",
       "      <td>117961.000000</td>\n",
       "      <td>118102.000000</td>\n",
       "      <td>118395.000000</td>\n",
       "      <td>118274.000000</td>\n",
       "      <td>117906.000000</td>\n",
       "      <td>118363.000000</td>\n",
       "    </tr>\n",
       "    <tr>\n",
       "      <th>50%</th>\n",
       "      <td>35376.000000</td>\n",
       "      <td>13545.000000</td>\n",
       "      <td>117961.000000</td>\n",
       "      <td>118300.000000</td>\n",
       "      <td>118921.000000</td>\n",
       "      <td>118568.000000</td>\n",
       "      <td>128696.000000</td>\n",
       "      <td>119006.000000</td>\n",
       "    </tr>\n",
       "    <tr>\n",
       "      <th>75%</th>\n",
       "      <td>74189.000000</td>\n",
       "      <td>42034.000000</td>\n",
       "      <td>117961.000000</td>\n",
       "      <td>118386.000000</td>\n",
       "      <td>120535.000000</td>\n",
       "      <td>120006.000000</td>\n",
       "      <td>235280.000000</td>\n",
       "      <td>290919.000000</td>\n",
       "    </tr>\n",
       "    <tr>\n",
       "      <th>max</th>\n",
       "      <td>312153.000000</td>\n",
       "      <td>311696.000000</td>\n",
       "      <td>311178.000000</td>\n",
       "      <td>286791.000000</td>\n",
       "      <td>286792.000000</td>\n",
       "      <td>311867.000000</td>\n",
       "      <td>311867.000000</td>\n",
       "      <td>308574.000000</td>\n",
       "    </tr>\n",
       "  </tbody>\n",
       "</table>\n",
       "</div>"
      ],
      "text/plain": [
       "            RESOURCE         MGR_ID  ROLE_ROLLUP_1  ROLE_ROLLUP_2  \\\n",
       "count   32769.000000   32769.000000   32769.000000   32769.000000   \n",
       "mean    42923.916171   25988.957979  116952.627788  118301.823156   \n",
       "std     34173.892702   35928.031650   10875.563591    4551.588572   \n",
       "min         0.000000      25.000000    4292.000000   23779.000000   \n",
       "25%     20299.000000    4566.000000  117961.000000  118102.000000   \n",
       "50%     35376.000000   13545.000000  117961.000000  118300.000000   \n",
       "75%     74189.000000   42034.000000  117961.000000  118386.000000   \n",
       "max    312153.000000  311696.000000  311178.000000  286791.000000   \n",
       "\n",
       "       ROLE_DEPTNAME     ROLE_TITLE  ROLE_FAMILY_DESC    ROLE_FAMILY  \n",
       "count   32769.000000   32769.000000      32769.000000   32769.000000  \n",
       "mean   118912.779914  125916.152644     170178.369648  183703.408893  \n",
       "std     18961.322917   31036.465825      69509.462130  100488.407413  \n",
       "min      4674.000000  117879.000000       4673.000000    3130.000000  \n",
       "25%    118395.000000  118274.000000     117906.000000  118363.000000  \n",
       "50%    118921.000000  118568.000000     128696.000000  119006.000000  \n",
       "75%    120535.000000  120006.000000     235280.000000  290919.000000  \n",
       "max    286792.000000  311867.000000     311867.000000  308574.000000  "
      ]
     },
     "execution_count": 34,
     "metadata": {},
     "output_type": "execute_result"
    }
   ],
   "source": [
    "data.describe()"
   ]
  },
  {
   "cell_type": "markdown",
   "metadata": {},
   "source": [
    "# 3. Class Distribution"
   ]
  },
  {
   "cell_type": "code",
   "execution_count": 35,
   "metadata": {},
   "outputs": [
    {
     "data": {
      "image/png": "[encoded data removed]",
      "text/plain": [
       "<matplotlib.figure.Figure at 0x1a224b0940>"
      ]
     },
     "metadata": {},
     "output_type": "display_data"
    }
   ],
   "source": [
    "count_class = pd.value_counts(target.values.ravel(), sort= True).sort_index()\n",
    "count_class.plot(kind = \"bar\", color = \"green\")\n",
    "plt.ylabel(\"Frequency\")\n",
    "plt.xticks(np.arange(2), ('Denied Access (0)', 'Granted Acess (1)'))\n",
    "plt.title(\"Class Frequency Imbalance\")\n",
    "plt.show()"
   ]
  },
  {
   "cell_type": "markdown",
   "metadata": {},
   "source": [
    "# 4.  Correlation Plot"
   ]
  },
  {
   "cell_type": "code",
   "execution_count": 36,
   "metadata": {},
   "outputs": [
    {
     "data": {
      "image/png": "[encoded data removed]",
      "text/plain": [
       "<matplotlib.figure.Figure at 0x1a2251bd30>"
      ]
     },
     "metadata": {},
     "output_type": "display_data"
    }
   ],
   "source": [
    "dataset = pd.concat([data, target], axis = 1)\n",
    "corr = dataset.corr()\n",
    "plt.figure(figsize=(10, 10))\n",
    "plt.imshow(corr, cmap='RdYlGn', interpolation='none', aspect='auto')\n",
    "plt.colorbar()\n",
    "plt.xticks(range(len(corr)), corr.columns, rotation='vertical')\n",
    "plt.yticks(range(len(corr)), corr.columns);\n",
    "plt.suptitle('Employee Access Heat Map', fontsize=12, fontweight='bold')\n",
    "plt.show()"
   ]
  },
  {
   "cell_type": "markdown",
   "metadata": {},
   "source": [
    "# 5.  Balancing the DataSet using SMOTE technique"
   ]
  },
  {
   "cell_type": "code",
   "execution_count": 37,
   "metadata": {},
   "outputs": [
    {
     "data": {
      "image/png": "[encoded data removed]",
      "text/plain": [
       "<matplotlib.figure.Figure at 0x1a253e1cc0>"
      ]
     },
     "metadata": {},
     "output_type": "display_data"
    }
   ],
   "source": [
    "from imblearn.over_sampling import SMOTE\n",
    "\n",
    "#smote technique\n",
    "sm = SMOTE(random_state=42, kind='borderline1')\n",
    "X_balanced, Y_balanced = sm.fit_sample(data, target.values.ravel())\n",
    "\n",
    "#plot the balanced dataset\n",
    "count_class = pd.value_counts(Y_balanced, sort= True).sort_index()\n",
    "count_class.plot(kind = \"bar\", color = \"green\")\n",
    "plt.ylabel(\"Frequency\")\n",
    "plt.xticks(np.arange(2), ('Denied Access (0)', 'Granted Acess (1)'))\n",
    "plt.title(\"Class Frequency Balanced using SMOTE Technique\")\n",
    "plt.show()"
   ]
  },
  {
   "cell_type": "code",
   "execution_count": 38,
   "metadata": {},
   "outputs": [
    {
     "data": {
      "text/plain": [
       "(61744, 8)"
      ]
     },
     "execution_count": 38,
     "metadata": {},
     "output_type": "execute_result"
    }
   ],
   "source": [
    "X_balanced.shape"
   ]
  },
  {
   "cell_type": "markdown",
   "metadata": {},
   "source": [
    "# 6. Feature Generation\n",
    "#### One Hot encoding"
   ]
  },
  {
   "cell_type": "code",
   "execution_count": 39,
   "metadata": {},
   "outputs": [
    {
     "data": {
      "text/plain": [
       "(61744, 72474)"
      ]
     },
     "execution_count": 39,
     "metadata": {},
     "output_type": "execute_result"
    }
   ],
   "source": [
    "#dataset is highly categorical so need to perform one-hot encoding\n",
    "obj = preprocessing.OneHotEncoder()\n",
    "obj.fit(X_balanced)\n",
    "X_dummyEncode = obj.transform(X_balanced)\n",
    "X_dummyEncode.shape"
   ]
  },
  {
   "cell_type": "markdown",
   "metadata": {},
   "source": [
    "Large number of sparse features so need to perform feature selection"
   ]
  },
  {
   "cell_type": "markdown",
   "metadata": {},
   "source": [
    "# 7. Feature Selection"
   ]
  },
  {
   "cell_type": "markdown",
   "metadata": {},
   "source": [
    "#### SelectKBest using chi2 score test"
   ]
  },
  {
   "cell_type": "code",
   "execution_count": 40,
   "metadata": {},
   "outputs": [
    {
     "data": {
      "text/plain": [
       "(61744, 550)"
      ]
     },
     "execution_count": 40,
     "metadata": {},
     "output_type": "execute_result"
    }
   ],
   "source": [
    "selectBest_attribute = SelectKBest(chi2, k= 550)\n",
    "#fit and transforms the data\n",
    "selectBest_attribute.fit(X_dummyEncode, Y_balanced)\n",
    "modifiedData = selectBest_attribute.transform(X_dummyEncode)\n",
    "modifiedData.shape"
   ]
  },
  {
   "cell_type": "markdown",
   "metadata": {},
   "source": [
    "SelectKBest function reduced the features from 72474 to 550"
   ]
  },
  {
   "cell_type": "markdown",
   "metadata": {},
   "source": [
    "#  8. Machine Learnig Models "
   ]
  },
  {
   "cell_type": "markdown",
   "metadata": {},
   "source": [
    "### 8.1 Naive Bayes"
   ]
  },
  {
   "cell_type": "code",
   "execution_count": 80,
   "metadata": {},
   "outputs": [],
   "source": [
    "def Naive_Bayes(modifiedData, target):\n",
    "    \"\"\"\n",
    "    This function implements Naive Bayes algorithm and plots the AUC graph\n",
    "    :param modifiedData: the dataset\n",
    "    :param target: the target class value\n",
    "    :return: None\n",
    "    \"\"\"\n",
    "\n",
    "    #BernoilliNB creates Niave Bayes object\n",
    "    bernoilli_nb = BernoulliNB(alpha = 1)  # alpha = 1 performs laplace estimation, to handle zero frequency problem'\n",
    "\n",
    "    #variable initialization\n",
    "    random_seed = 31  #random seed value\n",
    "    kFold = 10        #for 10 fold cross validation\n",
    "\n",
    "    #stores fpr, tpr, auc for each fold\n",
    "    mean_auc = 0\n",
    "    fpr_score = []\n",
    "    tpr_socre = []\n",
    "    roc_auc_value = []\n",
    "    fscre = 0\n",
    "\n",
    "    #performs 10 fold cross validation\n",
    "    for fold in range(kFold):\n",
    "\n",
    "        #uses train test split of ratio 80:20 to perform 10 fold cross validation\n",
    "        X_train, X_test, Y_train, Y_test = model_selection.train_test_split(modifiedData, target, test_size=.20,\n",
    "                                                                        random_state= fold * random_seed)\n",
    "        #fits and predicts the values\n",
    "        bernoilli_nb.fit(X_train, np.ravel(Y_train,order='C'))\n",
    "        prediction = bernoilli_nb.predict_proba(X_test)[:,1]\n",
    "        tempPrediction = bernoilli_nb.predict(X_test)\n",
    "        #calculates fpr and tpr, auc values\n",
    "        fpr_score, tpr_score, roc_auc_value, mean_auc = roc_value(Y_test, prediction, fpr_score, tpr_socre, mean_auc, roc_auc_value)\n",
    "        fscre  += f1Score(Y_test, tempPrediction)\n",
    "    print(\"Mean AUC for Naive Bayes: %f\" % (mean_auc / kFold))\n",
    "    print(\"F1 - Score Naive Bayes: %f\" % (fscre / kFold) )\n",
    "\n",
    "    #plots AUC graph for Naive Bayes\n",
    "    max_roc = roc_auc_value.index(max(roc_auc_value))\n",
    "    plt.plot(fpr_score[max_roc], tpr_socre[max_roc], color = 'g', label = 'Naive Bayes')\n",
    "    plt.legend(loc = 'lower right')"
   ]
  },
  {
   "cell_type": "markdown",
   "metadata": {},
   "source": [
    "### 8.2 Logistic Regression"
   ]
  },
  {
   "cell_type": "code",
   "execution_count": 79,
   "metadata": {},
   "outputs": [],
   "source": [
    "def Logistic_Regression(data, target):\n",
    "    \"\"\"\n",
    "    This function implements Logistic Regression algorithm and plots the AUC graph\n",
    "    :param modifiedData: the dataset\n",
    "    :param target: the target class value\n",
    "    :return: None\n",
    "    \"\"\"\n",
    "\n",
    "    #creates object for logistic regression\n",
    "    log_regrresion = linear_model.LogisticRegression(C=3)\n",
    "\n",
    "    # variable initialization\n",
    "    random_seed = 42   #random seed value\n",
    "    kFold = 10         #for 10 fold cross validation\n",
    "\n",
    "    #stores fpr, tpr, auc for each fold\n",
    "    mean_auc = 0\n",
    "    fpr_score = []\n",
    "    tpr_socre = []\n",
    "    roc_auc_value = []\n",
    "    fscre = 0\n",
    "\n",
    "    # performs 10 fold cross validation\n",
    "    for fold in range(kFold):\n",
    "        # uses train test split of ratio 80:20 to perform 10 fold cross validation\n",
    "        X_train, X_test, Y_train, Y_test = model_selection.train_test_split(data, target, test_size=.20, random_state= fold * random_seed)\n",
    "\n",
    "        # fits and predicts the values\n",
    "        log_regrresion.fit(X_train, np.ravel(Y_train,order='C'))\n",
    "        prediction = log_regrresion.predict_proba(X_test)[:,1]\n",
    "        tempPrediction = log_regrresion.predict(X_test)\n",
    "\n",
    "        # calculates fpr and tpr, auc values\n",
    "        fpr_score, tpr_score, roc_auc_value, mean_auc = roc_value(Y_test, prediction, fpr_score, tpr_socre, mean_auc, roc_auc_value)\n",
    "        fscre  += f1Score(Y_test, tempPrediction)\n",
    "    print(\"Mean AUC for Logistic Regression: %f\" % (mean_auc / kFold))\n",
    "    print(\"F1 - Score Logistic Regression: %f\" % (fscre / kFold) )\n",
    "\n",
    "\n",
    "    # plots AUC graph for Logistic Regression\n",
    "    max_roc = roc_auc_value.index(max(roc_auc_value))\n",
    "    plt.plot(fpr_score[max_roc], tpr_socre[max_roc], color = 'm', label = 'Logistic Regression')\n",
    "    plt.legend(loc = 'lower right')"
   ]
  },
  {
   "cell_type": "markdown",
   "metadata": {},
   "source": [
    "### 8.3 Random Forest"
   ]
  },
  {
   "cell_type": "code",
   "execution_count": 78,
   "metadata": {},
   "outputs": [],
   "source": [
    "def Random_Forest(data, target):\n",
    "    \"\"\"\n",
    "    This function implements Random Forest algorithm and plots the AUC graph\n",
    "    :param modifiedData: the dataset\n",
    "    :param target: the target class value\n",
    "    :return: None\n",
    "    \"\"\"\n",
    "\n",
    "    #creates object for random forest classifier\n",
    "    random_forest = RandomForestClassifier(n_jobs= 10)\n",
    "\n",
    "    # variable initialization\n",
    "    random_seed = 31 #random seed value\n",
    "    kFold = 10      #for 10 fold cross validation\n",
    "\n",
    "    # stores fpr, tpr, auc for each fold\n",
    "    mean_auc = 0\n",
    "    fpr_score = []\n",
    "    tpr_socre = []\n",
    "    roc_auc_value = []\n",
    "    fscre = 0\n",
    "\n",
    "    # performs 10 fold cross validation\n",
    "    for fold in range(kFold):\n",
    "        # uses train test split of ratio 80:20 to perform 10 fold cross validation\n",
    "        X_train, X_test, Y_train, Y_test = model_selection.train_test_split(data, target, test_size=.20,random_state= fold * random_seed)\n",
    "\n",
    "        # fits and predicts the values\n",
    "        random_forest.fit(X_train, np.ravel(Y_train,order='C'))\n",
    "        prediction = random_forest.predict_proba(X_test)[:, 1]\n",
    "        tempPrediction = random_forest.predict(X_test)\n",
    "\n",
    "        # calculates fpr and tpr, auc values\n",
    "        fpr_score, tpr_score, roc_auc_value, mean_auc = roc_value(Y_test, prediction, fpr_score, tpr_socre, mean_auc,roc_auc_value)\n",
    "        fscre  += f1Score(Y_test, tempPrediction)\n",
    "        \n",
    "    print(\"Mean AUC for Random Forest: %f\" % (mean_auc / kFold))\n",
    "    print(\"F1 - Score Random Forest: %f\" % (fscre / kFold) )\n",
    "    # plots AUC graph for Random Forest\n",
    "    max_roc = roc_auc_value.index(max(roc_auc_value))\n",
    "    plt.plot(fpr_score[max_roc], tpr_socre[max_roc], color='r', label='Random Forest')\n",
    "    plt.legend(loc='lower right')"
   ]
  },
  {
   "cell_type": "markdown",
   "metadata": {},
   "source": [
    "### 8.4 Support Vector Machines (SVM)"
   ]
  },
  {
   "cell_type": "code",
   "execution_count": 77,
   "metadata": {},
   "outputs": [],
   "source": [
    "def SVM(data, target):\n",
    "    \"\"\"\n",
    "    This function implements SVM algorithm and plots the AUC graph\n",
    "    :param modifiedData: the dataset\n",
    "    :param target: the target class value\n",
    "    :return: None\n",
    "    \"\"\"\n",
    "\n",
    "    #creates object for linear SVM\n",
    "    linearSVM = LinearSVC(penalty = 'l1',  random_state= 37, max_iter=1000, dual=False, C=3)\n",
    "\n",
    "    #initializing the variable\n",
    "    random_seed = 42    #random seed value\n",
    "    kFold = 10          #for 10 fold cross validation\n",
    "\n",
    "    # stores fpr, tpr, auc for each fold\n",
    "    mean_auc = 0\n",
    "    fpr_score = []\n",
    "    tpr_socre = []\n",
    "    roc_auc_value = []\n",
    "    fscre = 0\n",
    "\n",
    "    # performs 10 fold cross validation\n",
    "    for fold in range(kFold):\n",
    "        # uses train test split of ratio 80:20 to perform 10 fold cross validation\n",
    "        X_train, X_test, Y_train, Y_test = model_selection.train_test_split(data, target, test_size=.20, random_state= fold * random_seed)\n",
    "\n",
    "        # fits and predicts the values\n",
    "        linearSVM.fit(X_train, np.ravel(Y_train,order='C'))\n",
    "        prediction = linearSVM.predict(X_test)\n",
    "\n",
    "        # calculates fpr and tpr, auc values\n",
    "        fpr_score, tpr_score, roc_auc_value, mean_auc = roc_value(Y_test, prediction, fpr_score, tpr_socre, mean_auc, roc_auc_value)\n",
    "        fscre  += f1Score(Y_test, prediction)\n",
    "        \n",
    "    print(\"Mean AUC for SVM: %f\" % (mean_auc / kFold))\n",
    "    print(\"F1 - Score SVM: %f\" % (fscre / kFold) )\n",
    "\n",
    "    # plots AUC graph for SVM\n",
    "    max_roc = roc_auc_value.index(\"{0:.2f}\".format(mean_auc / kFold))\n",
    "    plt.plot(fpr_score[max_roc], tpr_socre[max_roc], color='y', label='SVM')\n",
    "    plt.legend(loc='lower right')"
   ]
  },
  {
   "cell_type": "markdown",
   "metadata": {},
   "source": [
    "### 8.5 K-Nearest Neighbors (KNN)"
   ]
  },
  {
   "cell_type": "code",
   "execution_count": 76,
   "metadata": {},
   "outputs": [],
   "source": [
    "def KNN(data, target):\n",
    "    \"\"\"\n",
    "    This function implements KNN algorithm and plots the AUC graph\n",
    "    :param modifiedData: the dataset\n",
    "    :param target: the target class value\n",
    "    :return: None\n",
    "    \"\"\"\n",
    "\n",
    "    #KNN object using 7 neighbors\n",
    "    kneighbor = KNeighborsClassifier(n_neighbors=7)\n",
    "\n",
    "    # variable initialization\n",
    "    ramdom_seed = 42  #random seed value\n",
    "    kFold = 10        #for 10 fold cross validation\n",
    "\n",
    "    # stores fpr, tpr, auc for each fold\n",
    "    mean_auc = 0\n",
    "    fpr_score = []\n",
    "    tpr_socre = []\n",
    "    roc_auc_value = []\n",
    "    fscre = 0\n",
    "    # performs 10 fold cross validation\n",
    "    for fold in range(kFold):\n",
    "        # uses train test split of ratio 80:20 to perform 10 fold cross validation\n",
    "        X_train, X_test, Y_train, Y_test = model_selection.train_test_split(data, target, test_size=.20, random_state= fold * ramdom_seed)\n",
    "\n",
    "        # fits and predicts the values\n",
    "        kneighbor.fit(X_train, np.ravel(Y_train,order='C'))\n",
    "        prediction = kneighbor.predict_proba(X_test)[:, 1]\n",
    "        tempPrediction = kneighbor.predict(X_test)\n",
    "\n",
    "        # calculates fpr and tpr, auc values\n",
    "        fpr_score, tpr_score, roc_auc_value, mean_auc = roc_value(Y_test, prediction, fpr_score, tpr_socre, mean_auc,roc_auc_value)\n",
    "        fscre  += f1Score(Y_test, tempPrediction)\n",
    "        \n",
    "    print(\"Mean AUC for KNN: %f\" % (mean_auc / kFold))\n",
    "    print(\"F1 - Score KNN: %f\" % (fscre / kFold) )\n",
    "    # plots AUC graph for KNN\n",
    "    max_roc = roc_auc_value.index(max(roc_auc_value))\n",
    "    plt.plot(fpr_score[max_roc], tpr_socre[max_roc], color='b', label='KNN')\n",
    "    plt.legend(loc='lower right')"
   ]
  },
  {
   "cell_type": "markdown",
   "metadata": {},
   "source": [
    "# 9. Evaluting the Models"
   ]
  },
  {
   "cell_type": "markdown",
   "metadata": {},
   "source": [
    "### 9.1 AUC - ROC curves"
   ]
  },
  {
   "cell_type": "code",
   "execution_count": 46,
   "metadata": {},
   "outputs": [],
   "source": [
    "def roc_value(Y_test, prediction, fpr_score, tpr_score, mean_auc, roc_auc_value):\n",
    "    \"\"\"\n",
    "    This function calculates fpr, tpr and AUC curve value for any algorithm\n",
    "    :param Y_test: the actual values of the target class\n",
    "    :param prediction: the predicted values of the target class\n",
    "    :param fpr_score: the false positve rate\n",
    "    :param tpr_score: the true positive rate\n",
    "    :param mean_auc: the mean value of AUC curve for 10 folds\n",
    "    :param roc_auc_value: each auc curve value across 10 folds\n",
    "    :return: roc_auc_value: each auc curve value across 10 folds\n",
    "    \"\"\"\n",
    "\n",
    "    #calculates fpr and tpr values for each model\n",
    "    fpr, tpr, thresholds = metrics.roc_curve(Y_test, prediction)\n",
    "    fpr_score.append(fpr)\n",
    "    tpr_score.append(tpr)\n",
    "\n",
    "    #calculates auc for each model\n",
    "    roc_auc = metrics.auc(fpr, tpr)\n",
    "    mean_auc = mean_auc + roc_auc\n",
    "    roc_auc_value.append(\"{0:.2f}\".format(roc_auc))\n",
    "\n",
    "    return fpr_score, tpr_score, roc_auc_value, mean_auc\n",
    "\n",
    "def plotGraph():\n",
    "    \"\"\"\n",
    "    This function sets lables for X and Y axis\n",
    "    :return: None\n",
    "    \"\"\"\n",
    "    plt.xlabel(\"True Positive Rate\")\n",
    "    plt.ylabel(\"False Positive Rate\")\n",
    "    plt.title(\"AUC comparison for all models.\")\n",
    "    plt.grid(True)\n",
    "    plt.show()"
   ]
  },
  {
   "cell_type": "markdown",
   "metadata": {},
   "source": [
    "### 9.2  f1-Score"
   ]
  },
  {
   "cell_type": "code",
   "execution_count": 49,
   "metadata": {},
   "outputs": [],
   "source": [
    "def f1Score(Y_test, prediction):\n",
    "    \"\"\"\n",
    "    This function calculates f1-score for any algorithm\n",
    "    :param Y_test: the actual values of the target class\n",
    "    :param prediction: the predicted values of the target class\n",
    "    \"\"\"\n",
    "    score = f1_score(Y_test, prediction, average='binary')  \n",
    "    return score "
   ]
  },
  {
   "cell_type": "markdown",
   "metadata": {},
   "source": [
    "# 10. Results - Raw Dataset"
   ]
  },
  {
   "cell_type": "code",
   "execution_count": 81,
   "metadata": {},
   "outputs": [
    {
     "name": "stdout",
     "output_type": "stream",
     "text": [
      "Mean AUC for Naive Bayes: 0.500284\n",
      "F1 - Score Naive Bayes: 0.970168\n",
      "Time Required for Naive Bayes in sec: 0.2097187042236328\n",
      "------------------------------------------------------------------------------\n",
      "Mean AUC for Logistic Regression: 0.506254\n",
      "F1 - Score Logistic Regression: 0.970709\n",
      "Time Required for Logistic regression in sec:  1.117307186126709\n",
      "------------------------------------------------------------------------------\n",
      "Mean AUC for Random Forest: 0.801557\n",
      "F1 - Score Random Forest: 0.971252\n",
      "Time Required for Random Forest in sec:  4.226995944976807\n",
      "------------------------------------------------------------------------------\n",
      "Mean AUC for KNN: 0.688220\n",
      "F1 - Score KNN: 0.969470\n",
      "Time Required for KNN in sec:  4.479097127914429\n",
      "------------------------------------------------------------------------------\n",
      "Mean AUC for SVM: 0.500000\n",
      "F1 - Score SVM: 0.970709\n",
      "Time Required for SVM in sec:  7.584714889526367\n",
      "------------------------------------------------------------------------------\n"
     ]
    },
    {
     "data": {
      "image/png": "[encoded data removed]",
      "text/plain": [
       "<matplotlib.figure.Figure at 0x1a2296d0b8>"
      ]
     },
     "metadata": {},
     "output_type": "display_data"
    }
   ],
   "source": [
    "start_time = time.time()\n",
    "Naive_Bayes(data, target)\n",
    "print(\"Time Required for Naive Bayes in sec:\",  (time.time() - start_time))\n",
    "print(\"------------------------------------------------------------------------------\")\n",
    "\n",
    "start_time = time.time()\n",
    "Logistic_Regression(data,target)\n",
    "print(\"Time Required for Logistic regression in sec: \", (time.time() - start_time))\n",
    "print(\"------------------------------------------------------------------------------\")\n",
    "\n",
    "start_time = time.time()\n",
    "Random_Forest(data, target)\n",
    "print(\"Time Required for Random Forest in sec: \" ,  (time.time() - start_time))\n",
    "print(\"------------------------------------------------------------------------------\")\n",
    "\n",
    "start_time = time.time()\n",
    "KNN(data, target)\n",
    "print(\"Time Required for KNN in sec: \" , (time.time() - start_time))\n",
    "print(\"------------------------------------------------------------------------------\")\n",
    "\n",
    "start_time = time.time()\n",
    "SVM(data, target)\n",
    "print(\"Time Required for SVM in sec: \" ,(time.time() - start_time))\n",
    "print(\"------------------------------------------------------------------------------\")\n",
    "plotGraph()"
   ]
  },
  {
   "cell_type": "markdown",
   "metadata": {},
   "source": [
    "almost all the models performs worst (predicts outcome by chance) on the raw dataset\n",
    "hence need to balance and extract features from the dataset "
   ]
  },
  {
   "cell_type": "markdown",
   "metadata": {},
   "source": [
    "# 11. Results - Balanced + OneHot + feature selection"
   ]
  },
  {
   "cell_type": "code",
   "execution_count": 82,
   "metadata": {
    "scrolled": true
   },
   "outputs": [
    {
     "name": "stdout",
     "output_type": "stream",
     "text": [
      "Mean AUC for Naive Bayes: 0.917153\n",
      "F1 - Score Naive Bayes: 0.855650\n",
      "Time Required for Naive Bayes in sec: 0.33248376846313477\n",
      "------------------------------------------------------------------------------\n",
      "Mean AUC for Logistic Regression: 0.956718\n",
      "F1 - Score Logistic Regression: 0.892818\n",
      "Time Required for Logistic regression in sec:  2.9860918521881104\n",
      "------------------------------------------------------------------------------\n",
      "Mean AUC for Random Forest: 0.969870\n",
      "F1 - Score Random Forest: 0.916322\n",
      "Time Required for Random Forest in sec:  12.794313907623291\n",
      "------------------------------------------------------------------------------\n",
      "Mean AUC for SVM: 0.893701\n",
      "F1 - Score SVM: 0.892678\n",
      "Time Required for SVM in sec:  5.444817066192627\n",
      "------------------------------------------------------------------------------\n"
     ]
    },
    {
     "data": {
      "image/png": "[encoded data removed]",
      "text/plain": [
       "<matplotlib.figure.Figure at 0x1a24050da0>"
      ]
     },
     "metadata": {},
     "output_type": "display_data"
    }
   ],
   "source": [
    "start_time = time.time()\n",
    "Naive_Bayes(modifiedData, Y_balanced)\n",
    "print(\"Time Required for Naive Bayes in sec:\",  (time.time() - start_time))\n",
    "print(\"------------------------------------------------------------------------------\")\n",
    "\n",
    "start_time = time.time()\n",
    "Logistic_Regression(modifiedData,Y_balanced)\n",
    "print(\"Time Required for Logistic regression in sec: \", (time.time() - start_time))\n",
    "print(\"------------------------------------------------------------------------------\")\n",
    "\n",
    "start_time = time.time()\n",
    "Random_Forest(modifiedData, Y_balanced)\n",
    "print(\"Time Required for Random Forest in sec: \" ,  (time.time() - start_time))\n",
    "print(\"------------------------------------------------------------------------------\")\n",
    "\n",
    "start_time = time.time()\n",
    "SVM(modifiedData, Y_balanced)\n",
    "print(\"Time Required for SVM in sec: \" ,(time.time() - start_time))\n",
    "print(\"------------------------------------------------------------------------------\")\n",
    "\n",
    "plotGraph()"
   ]
  },
  {
   "cell_type": "markdown",
   "metadata": {},
   "source": [
    "SMOTE + one-hot encoding + feature selection improved the performance of all the models\n",
    "\n",
    "#### Random Forest performed best among all the classifiers with AUC = 0.969 and f1-Score of 0.91"
   ]
  },
  {
   "cell_type": "code",
   "execution_count": null,
   "metadata": {},
   "outputs": [],
   "source": []
  }
 ],
 "metadata": {
  "kernelspec": {
   "display_name": "Python 3",
   "language": "python",
   "name": "python3"
  },
  "language_info": {
   "codemirror_mode": {
    "name": "ipython",
    "version": 3
   },
   "file_extension": ".py",
   "mimetype": "text/x-python",
   "name": "python",
   "nbconvert_exporter": "python",
   "pygments_lexer": "ipython3",
   "version": "3.6.4"
  }
 },
 "nbformat": 4,
 "nbformat_minor": 2
}
